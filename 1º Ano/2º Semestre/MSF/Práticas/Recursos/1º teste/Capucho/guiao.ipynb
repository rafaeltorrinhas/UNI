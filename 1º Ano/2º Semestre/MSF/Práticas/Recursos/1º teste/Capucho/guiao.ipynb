{
 "cells": [
  {
   "cell_type": "code",
   "execution_count": 1,
   "id": "f2ceb20d-6133-47aa-8546-7b4828f60925",
   "metadata": {
    "tags": [
     "remove_cell"
    ]
   },
   "outputs": [],
   "source": [
    "from IPython.display import display, Math"
   ]
  },
  {
   "cell_type": "code",
   "execution_count": 2,
   "id": "0491049d-d134-4129-abe9-34440f037849",
   "metadata": {
    "tags": []
   },
   "outputs": [],
   "source": [
    "# As seguintes librarias serão necessárias para resolver os exercícios\n",
    "# O numpy permite efetuar cálculos de forma eficiente\n",
    "# sobre vários números (arrays)\n",
    "import numpy as np\n",
    "# O matplotlib e o seu módulo pyplot oferecem\n",
    "# uma interface simples para gerar gráficos\n",
    "import matplotlib.pyplot as plt"
   ]
  },
  {
   "cell_type": "code",
   "execution_count": 3,
   "id": "ba457657-fcfc-40d2-bc28-1f0fc1df1935",
   "metadata": {
    "tags": [
     "remove_cell"
    ]
   },
   "outputs": [],
   "source": [
    "import numpy.typing as npt\n",
    "from dataclasses import dataclass\n",
    "from typing import Callable\n",
    "\n",
    "\n",
    "@dataclass\n",
    "class EulerIntegrationResult:\n",
    "    dt: float  # timestep\n",
    "    t: npt.NDArray  # tempos\n",
    "    y: npt.NDArray  # posições\n",
    "    vy: npt.NDArray  # velocidades\n",
    "    ay: npt.NDArray  # aceleração\n",
    "\n",
    "\n",
    "def eulerIntegration1D(\n",
    "    t0: float,  # Tempo inicial\n",
    "    tf: float,  # Tempo final\n",
    "    a: Callable[[float], float] = lambda _: 9.8,  # Aceleração\n",
    "    dt: float = 0.01,  # timestep\n",
    "    vy0: float = 0,  # velocidade inicial\n",
    "    ay0: float = 9.8,  # Aceleração inicial\n",
    "    y0: float = 0,  # posição inicial\n",
    ") -> EulerIntegrationResult:\n",
    "    duration = tf - t0\n",
    "\n",
    "    # Número de passos/iterações\n",
    "    #\n",
    "    # + 0.1 para garantir que não há arrendodamentos\n",
    "    # para baixo\n",
    "    n = int(duration / dt + 0.1)\n",
    "\n",
    "    t = np.zeros(n + 1)\n",
    "    y = np.zeros(n + 1)\n",
    "    vy = np.zeros(n + 1)\n",
    "    ay = np.zeros(n + 1)\n",
    "\n",
    "    # Insert initial values\n",
    "    ay[0] = ay0\n",
    "    vy[0] = vy0\n",
    "    t[0] = t0\n",
    "    y[0] = y0\n",
    "\n",
    "    for i in range(n):\n",
    "        ay[i + 1] = a(ay[i])\n",
    "\n",
    "        y[i + 1] = y[i] + vy[i] * dt\n",
    "        vy[i + 1] = vy[i] + ay[i] * dt\n",
    "        t[i + 1] = t[i] + dt\n",
    "\n",
    "    return EulerIntegrationResult(dt=dt, t=t, y=y, vy=vy, ay=ay)"
   ]
  },
  {
   "cell_type": "markdown",
   "id": "d4431948-b5ec-41a8-bbfc-fd6dd8f98165",
   "metadata": {},
   "source": [
    "# Exercício 1"
   ]
  },
  {
   "cell_type": "markdown",
   "id": "b58eae6f-6717-406c-aae1-50c85d50760d",
   "metadata": {
    "tags": []
   },
   "source": [
    "Um objeto pequeno é largado de uma altura elevada. Considere a queda livre, sem\n",
    "resistência do ar. Considere $g = 9.80 \\; \\text{m/s}$\n"
   ]
  },
  {
   "cell_type": "code",
   "execution_count": 4,
   "id": "f4b333b4-1b5a-4b5f-8d1d-46b741d09cb1",
   "metadata": {
    "tags": []
   },
   "outputs": [],
   "source": [
    "g = 9.8"
   ]
  },
  {
   "cell_type": "markdown",
   "id": "ffb2db37-26d4-4831-a323-87dc109dc97f",
   "metadata": {},
   "source": [
    "a) Qual a relação entre a velocidade e a aceleração instantânea?\n",
    "\n",
    "A velocidade instantânea relaciona-se com a aceleração instantânea através do integral desta:\n",
    "\n",
    "$$\n",
    "v(t) - v(t_0) = \\int_{t_0}^t a(t) \\, dt\n",
    "$$\n",
    "\n",
    "Neste caso como se trata de uma queda livre $a(t) = g$ logo o integral seria equivalente a seguinte expressão:\n",
    "\n",
    "$$\n",
    "v(t) - v(t_0) = \\left[ gt \\right]^t_{t_0}\n",
    "$$\n",
    "\n",
    "b) Construa um programa que determine a velocidade do objeto, usando o método de\n",
    "Euler, no intervalo de tempo $\\left[ 0, 4s \\right]$. Qual a velocidade em 3s?\n",
    "\n",
    "Começamos por definir os parâmetros e realizar a integração euler. "
   ]
  },
  {
   "cell_type": "code",
   "execution_count": 5,
   "id": "ab575cff-6c84-49ac-abfb-2b8929873148",
   "metadata": {
    "tags": []
   },
   "outputs": [],
   "source": [
    "# Parâmetros\n",
    "dt = 0.01\n",
    "t0 = 0\n",
    "tf = 4.0\n",
    "y0 = 0\n",
    "vy0 = 0\n",
    "\n",
    "# Número de passos/iterações\n",
    "#\n",
    "# + 0.1 para garantir que não há arrendodamentos\n",
    "# para baixo\n",
    "n = int((tf-t0) / dt + 0.1)\n",
    "\n",
    "t = np.zeros(n + 1)\n",
    "y = np.zeros(n + 1)\n",
    "vy = np.zeros(n + 1)\n",
    "ay = np.zeros(n + 1)\n",
    "\n",
    "# Insert initial values\n",
    "vy[0] = vy0\n",
    "t[0] = t0\n",
    "y[0] = y0\n",
    "\n",
    "for i in range(n):\n",
    "    ay[i] = g\n",
    "\n",
    "    y[i + 1] = y[i] + vy[i] * dt\n",
    "    vy[i + 1] = vy[i] + ay[i] * dt\n",
    "    t[i + 1] = t[i] + dt"
   ]
  },
  {
   "cell_type": "markdown",
   "id": "5464a8be-e207-43cc-811d-33d43a8dde32",
   "metadata": {},
   "source": [
    "Agora para obter a velocidade temos que obter o índice que corresponde aos 3s, como o array da velocidade têm $N$ elementos igualmente espaçados de $\\left[ t_0, t \\right]$, por sua vez $N$ é definido como:\n",
    "\n",
    "$$\n",
    "N = \\left\\lceil \\frac{t - t_0}{\\delta t} \\right\\rceil\n",
    "$$\n",
    "\n",
    "Logo o índice para um dado instante $I$ é dado por:\n",
    "\n",
    "$$\n",
    "\\left\\lceil \\frac{I - t_0}{\\delta t} \\right\\rceil\n",
    "$$"
   ]
  },
  {
   "cell_type": "code",
   "execution_count": 6,
   "id": "1f93a12a-3783-4ebb-8ae4-5e1fb51f1756",
   "metadata": {
    "tags": []
   },
   "outputs": [],
   "source": [
    "target = 3\n",
    "targetIdx = int(np.ceil(target / dt))\n",
    "\n",
    "# Agora basta aceder a `vy` com `targetIdx` para obter a velocidade aos 3 segundos\n",
    "v = vy[targetIdx]\n",
    "# Obtemos também o tempo para verificar que o índice escolhido está correto\n",
    "I = t[targetIdx]"
   ]
  },
  {
   "cell_type": "code",
   "execution_count": 7,
   "id": "4778b7eb-a10f-4fb7-8561-da77aec5387b",
   "metadata": {
    "tags": [
     "remove_cell"
    ]
   },
   "outputs": [
    {
     "data": {
      "text/latex": [
       "$\\displaystyle v = 29.40000000 \\, (m/s^2)$"
      ],
      "text/plain": [
       "<IPython.core.display.Math object>"
      ]
     },
     "metadata": {},
     "output_type": "display_data"
    },
    {
     "data": {
      "text/latex": [
       "$\\displaystyle I = 3.00000000 \\, (s)$"
      ],
      "text/plain": [
       "<IPython.core.display.Math object>"
      ]
     },
     "metadata": {},
     "output_type": "display_data"
    }
   ],
   "source": [
    "display(Math(r'v = {:.8f} \\, (m/s^2)'.format(v)))\n",
    "display(Math(r'I = {:.8f} \\, (s)'.format(I)))"
   ]
  },
  {
   "cell_type": "markdown",
   "id": "91f7c701-6b54-4c96-b12c-24847834c60a",
   "metadata": {},
   "source": [
    "c) Repita a alínea anterior, com um passo 10 vezes menor."
   ]
  },
  {
   "cell_type": "code",
   "execution_count": 8,
   "id": "da4dd741-c4b7-4015-82c7-a8aabc87b486",
   "metadata": {
    "tags": []
   },
   "outputs": [],
   "source": [
    "# Parâmetros\n",
    "dt = 0.001\n",
    "t0 = 0\n",
    "tf = 4.0\n",
    "y0 = 0\n",
    "vy0 = 0\n",
    "\n",
    "# Recalculamos a integração de euler"
   ]
  },
  {
   "cell_type": "code",
   "execution_count": 9,
   "id": "994c4062-a7ee-4d4e-84a9-90f91320a8a7",
   "metadata": {
    "tags": [
     "remove_cell"
    ]
   },
   "outputs": [],
   "source": [
    "res = eulerIntegration1D(t0=t0, tf=tf, dt=dt, y0=y0, vy0=vy0)\n",
    "\n",
    "vy = res.vy\n",
    "t = res.t"
   ]
  },
  {
   "cell_type": "code",
   "execution_count": 10,
   "id": "1c569afd-fbd0-4ff9-b92c-ebbab6bf0f13",
   "metadata": {
    "tags": []
   },
   "outputs": [],
   "source": [
    "# Precisamos de recalcular pois `dt` mudou\n",
    "targetIdx = int(np.ceil(target / dt))\n",
    "\n",
    "v = vy[targetIdx]\n",
    "I = t[targetIdx]"
   ]
  },
  {
   "cell_type": "code",
   "execution_count": 11,
   "id": "592242fe-f521-4fea-98c6-54ce423117f1",
   "metadata": {
    "tags": [
     "remove_cell"
    ]
   },
   "outputs": [
    {
     "data": {
      "text/latex": [
       "$\\displaystyle v = 29.40000000 \\, (m/s^2)$"
      ],
      "text/plain": [
       "<IPython.core.display.Math object>"
      ]
     },
     "metadata": {},
     "output_type": "display_data"
    },
    {
     "data": {
      "text/latex": [
       "$\\displaystyle I = 3.00000000 \\, (s)$"
      ],
      "text/plain": [
       "<IPython.core.display.Math object>"
      ]
     },
     "metadata": {},
     "output_type": "display_data"
    }
   ],
   "source": [
    "display(Math(r'v = {:.8f} \\, (m/s^2)'.format(v)))\n",
    "display(Math(r'I = {:.8f} \\, (s)'.format(I)))"
   ]
  },
  {
   "cell_type": "markdown",
   "id": "5f4cbae8-db8b-46ff-9b12-a5a67eef4a6a",
   "metadata": {},
   "source": [
    "d) Compare o resultado obtido em b) e c) com o resultado exato. Que conclui?\n",
    "\n",
    "O resultado exato pode ser calculado através de $v(t) = gt$, que substituindo dá $v(3) = 9.8 \\times 3 = 29.4$.\n",
    "\n",
    "Os resultados obtidos são iguais, o que faz sentido pois a relação ente a velocidade e a aceleração é linear logo desde que o instante que pretendemos medir seja um múltiplo do passo, o valor será sempre exato (excetuando erros de aproximações nos floats)\n",
    "\n",
    "e) Construa um programa que determine a posição do objeto, usando o método de Euler,\n",
    "no intervalo de tempo $\\left[0, 3s \\right]$ . Qual a posição no instante 2 s, se o objeto partiu da\n",
    "posição 0 m? (Usa o passo de tempo usado em alínea b) .)"
   ]
  },
  {
   "cell_type": "code",
   "execution_count": 12,
   "id": "48076e7c-ffc5-435a-89ae-e04ab60f90b1",
   "metadata": {
    "tags": []
   },
   "outputs": [],
   "source": [
    "# Parâmetros\n",
    "dt = 0.01\n",
    "t0 = 0\n",
    "tf = 3.0\n",
    "y0 = 0\n",
    "vy0 = 0\n",
    "\n",
    "# Recalculamos a integração de euler"
   ]
  },
  {
   "cell_type": "code",
   "execution_count": 13,
   "id": "b30d60b1-4d56-417d-b6ac-8ba2bce8ab67",
   "metadata": {
    "tags": [
     "remove_cell"
    ]
   },
   "outputs": [],
   "source": [
    "res = eulerIntegration1D(t0=t0, tf=tf, dt=dt, y0=y0, vy0=vy0)\n",
    "\n",
    "y = res.y\n",
    "t = res.t"
   ]
  },
  {
   "cell_type": "code",
   "execution_count": 14,
   "id": "6ee78eec-d94a-4a67-882e-38df76791434",
   "metadata": {
    "tags": []
   },
   "outputs": [],
   "source": [
    "target = 2\n",
    "# Precisamos de recalcular pois `dt` e `target` mudaram\n",
    "targetIdx = int(np.ceil(target / dt))\n",
    "\n",
    "I = t[targetIdx]\n",
    "y_I = y[targetIdx]"
   ]
  },
  {
   "cell_type": "code",
   "execution_count": 15,
   "id": "c560b998-4a0c-4099-b08a-602fbd30e65d",
   "metadata": {
    "tags": [
     "remove_cell"
    ]
   },
   "outputs": [
    {
     "data": {
      "text/latex": [
       "$\\displaystyle y_I = 19.50200000 \\, (m/s)$"
      ],
      "text/plain": [
       "<IPython.core.display.Math object>"
      ]
     },
     "metadata": {},
     "output_type": "display_data"
    },
    {
     "data": {
      "text/latex": [
       "$\\displaystyle I = 2.00000000 \\, (s)$"
      ],
      "text/plain": [
       "<IPython.core.display.Math object>"
      ]
     },
     "metadata": {},
     "output_type": "display_data"
    }
   ],
   "source": [
    "display(Math(r'y_I = {:.8f} \\, (m/s)'.format(y_I)))\n",
    "display(Math(r'I = {:.8f} \\, (s)'.format(I)))"
   ]
  },
  {
   "cell_type": "markdown",
   "id": "795788cd-1bd3-4435-804f-b6e74ea9a6bc",
   "metadata": {},
   "source": [
    "f) Repita a alínea anterior, com um passo 10 vezes menor."
   ]
  },
  {
   "cell_type": "code",
   "execution_count": 16,
   "id": "b20bc2bb-3e76-4256-80da-fdcde7ff4592",
   "metadata": {
    "tags": []
   },
   "outputs": [],
   "source": [
    "# Parâmetros\n",
    "dt = 0.001\n",
    "t0 = 0\n",
    "tf = 3.0\n",
    "y0 = 0\n",
    "vy0 = 0\n",
    "\n",
    "# Recalculamos a integração de euler"
   ]
  },
  {
   "cell_type": "code",
   "execution_count": 17,
   "id": "15bb80a9-4305-4f1a-a040-6eed72bd6b61",
   "metadata": {
    "tags": [
     "remove_cell"
    ]
   },
   "outputs": [],
   "source": [
    "res = eulerIntegration1D(t0=t0, tf=tf, dt=dt, y0=y0, vy0=vy0)\n",
    "\n",
    "y = res.y\n",
    "t = res.t"
   ]
  },
  {
   "cell_type": "code",
   "execution_count": 18,
   "id": "46eba853-7f6c-480c-b9f0-8989d99dc48a",
   "metadata": {
    "tags": []
   },
   "outputs": [],
   "source": [
    "# Precisamos de recalcular pois `dt` mudou\n",
    "targetIdx = int(np.ceil(target / dt))\n",
    "\n",
    "I = t[targetIdx]\n",
    "y_I = y[targetIdx]"
   ]
  },
  {
   "cell_type": "code",
   "execution_count": 19,
   "id": "442884fe-0030-49d5-ae40-3492323a2588",
   "metadata": {
    "tags": [
     "remove_cell"
    ]
   },
   "outputs": [
    {
     "data": {
      "text/latex": [
       "$\\displaystyle y_I = 19.59020000 \\, (m/s)$"
      ],
      "text/plain": [
       "<IPython.core.display.Math object>"
      ]
     },
     "metadata": {},
     "output_type": "display_data"
    },
    {
     "data": {
      "text/latex": [
       "$\\displaystyle I = 2.00000000 \\, (s)$"
      ],
      "text/plain": [
       "<IPython.core.display.Math object>"
      ]
     },
     "metadata": {},
     "output_type": "display_data"
    }
   ],
   "source": [
    "display(Math(r'y_I = {:.8f} \\, (m/s)'.format(y_I)))\n",
    "display(Math(r'I = {:.8f} \\, (s)'.format(I)))"
   ]
  },
  {
   "cell_type": "markdown",
   "id": "99bc5668-713a-4205-9dea-d12d61fb425f",
   "metadata": {},
   "source": [
    "g) Compare o resultado obtido em e) e f) com o resultado exato. Que conclui?\n",
    "\n",
    "O resultado exato pode ser calculado através de $y(t) = \\frac{1}{2} gt^2$, que substituindo dá $x(2) = \\frac{1}{2} \\times 9.8 \\times 2^2 = 19.6$.\n",
    "\n",
    "Os resultados divergem, sendo o da alínea f) mais próximo do valor exato, o que faz sentido pois a relação ente a posição e a aceleração já não é linear como a da velocidade, logo a integração de euler devolve uma aproximação do valor exato, sendo que um passo menor calcula com maior precisão (ao custo de mais operações).\n",
    "\n",
    "h) Calcule novamente a posição no instante 2 s, com o passo 10 vezes menor. Faça o\n",
    "gráfico do desvio do valor aproximado com o valor exato em função do passo. Como varia\n",
    "o erro com o passo?"
   ]
  },
  {
   "cell_type": "code",
   "execution_count": 20,
   "id": "d6201604-2b7b-4560-87bd-456132887111",
   "metadata": {
    "tags": []
   },
   "outputs": [
    {
     "data": {
      "image/png": "[encoded data removed]",
      "text/plain": [
       "<Figure size 640x480 with 1 Axes>"
      ]
     },
     "metadata": {},
     "output_type": "display_data"
    }
   ],
   "source": [
    "def eulerIntegration(dt):\n",
    "    # Parâmetros\n",
    "    t0 = 0\n",
    "    tf = 3.0\n",
    "    y0 = 0\n",
    "    vy0 = 0\n",
    "\n",
    "    # Número de passos/iterações\n",
    "    #\n",
    "    # + 0.1 para garantir que não há arrendodamentos\n",
    "    # para baixo\n",
    "    n = int((tf-t0) / dt + 0.1)\n",
    "\n",
    "    y = np.zeros(n + 1)\n",
    "    vy = np.zeros(n + 1)\n",
    "\n",
    "    # Insert initial values\n",
    "    vy[0] = vy0\n",
    "    y[0] = y0\n",
    "\n",
    "    for i in range(n):\n",
    "        y[i + 1] = y[i] + vy[i] * dt\n",
    "        vy[i + 1] = vy[i] + g * dt\n",
    "        \n",
    "    target = 2\n",
    "    targetIdx = int(np.ceil(target / dt))\n",
    "\n",
    "    return y[targetIdx]\n",
    "\n",
    "# Criamos uma lista de passos que são metade do passo anterior\n",
    "dtX = np.array([0.1/2**k for k in range(10)])\n",
    "eulerY = np.array(list(map(eulerIntegration, dtX)))\n",
    "\n",
    "plt.plot(dtX, np.abs(eulerY - 1/2 * g * 2**2), \"r+\", label=\"Desvio\")\n",
    "plt.xlabel(\"Passo (segundos)\")\n",
    "plt.ylabel(\"Erro (m)\")\n",
    "plt.legend(loc=\"upper left\")\n",
    "plt.title(\"Desvio de Euler para o valor exato\")\n",
    "plt.show()"
   ]
  },
  {
   "cell_type": "markdown",
   "id": "4cf71cc1-3e9c-4944-979b-527c28dad08d",
   "metadata": {},
   "source": [
    "Neste caso consideramos apenas passos que são metade do passo anterior considerado, isto é necessário pois para outros valores pode ocorrer o problema de o valor que queremos considerar (neste caso 2s) estar mais perto ou mais longe do tempo que foi aproximado, o que incorre um erro extra dependendo da distância entre estes, o que nos não é relevante para este exercício.\n",
    "\n",
    "Dado isto podemos observar que a relação entre o desvio e o passo é linear."
   ]
  },
  {
   "cell_type": "markdown",
   "id": "c9d653ea-f7f7-4128-90b6-fbeebc74af68",
   "metadata": {
    "tags": []
   },
   "source": [
    "# Exercício 2"
   ]
  },
  {
   "cell_type": "markdown",
   "id": "4018a400-cc06-4b10-a716-a8257de6336b",
   "metadata": {
    "tags": []
   },
   "source": [
    "Uma bola é lançada verticalmente para cima com a velocidade 10 m/s.\n",
    "\n",
    "a) Encontre analiticamente a lei do movimento $y = y(t)$, se não considerar a\n",
    "resistência do ar.\n",
    "\n",
    "Se não considerarmos a resistência do ar, então a aceleração será a aceleração gravítica ($g = 9.8 \\, \\left(m/s^2\\right)$), o que implica um movimento uniformemente acelerado ou seja podemos utilizar a seguinte fórmula para calcular a distância.\n",
    "\n",
    "$$\n",
    "y(t) = y_0 + v_0 t + \\frac{1}{2} a t^2\n",
    "$$\n",
    "\n",
    "Substituindo as variáveis e assumindo o posição inicial no zero:\n",
    "\n",
    "$$\n",
    "y(t) = 10 t - 4.9 t^2\n",
    "$$\n",
    "\n",
    "b) Qual a altura máxima e o instante em que ocorre, no caso da alínea a)?\n",
    "\n",
    "Para determinarmos a altura máxima da bola precisamos de determinar o instante em que a velocidade desta tornou-se nula, pois é nesta ponto em que esta parou de avançar para cima e começou a cair.\n",
    "\n",
    "A velocidade é dada por $v(t) = 10 - 9.8t$ logo basta resolver a equação $v(t) = 0$\n",
    "\n",
    "$$\n",
    "v(t) = 0\n",
    "\\Leftrightarrow 10 - 9.8t = 0\n",
    "\\Leftrightarrow 10 = 9.8t\n",
    "\\Leftrightarrow t = \\frac{50}{49} \\approx 1.02040816 \\, \\text{s}\n",
    "$$\n",
    "\n",
    "Ou seja a bola atingiu a sua altura máxima em $t = \\frac{50}{49}$, aplicando este valor na lei do movimento da alínea a), obtemos:\n",
    "\n",
    "$$\n",
    "y \\left( \\frac{50}{49} \\right)\n",
    "= 10 \\times \\frac{50}{49} - 4.9 \\left( \\frac{50}{49} \\right)^2\n",
    "= \\frac{250}{49} \\approx 5.10204082 \\, \\text{m}\n",
    "$$\n",
    "\n",
    "c) Em que instante volta a passar pela posição inicial, no caso da alínea a)?\n",
    "\n",
    "A bola passa na posição inicial quando quando se verifica a equação $y(t) = 0$, logo se determinarmos os valores de $t$ e considerarmos o segundo (visto que o primeiro será quando a bola é lançada inicialmente), este será o instante em que a bola volta a passar pela posição inicial.\n",
    "\n",
    "$$\n",
    "\\begin{align*}\n",
    "y(t) = 0 &\\Leftrightarrow 10 t - 4.9 t^2 = 0 \\\\\n",
    "&\\Leftrightarrow t = \\frac{ -10 \\pm \\sqrt{10^2} }{-9.8} \\\\\n",
    "&\\Leftrightarrow t = \\frac{ -10 \\pm 10 }{-9.8} \\\\\n",
    "&\\Leftrightarrow t = 0 \\vee t = \\frac{ -20 }{-9.8} \\\\\n",
    "&\\Leftrightarrow t = 0 \\vee t = \\frac{100}{49} \\approx 2.04081633\n",
    "\\end{align*}\n",
    "$$\n",
    "\n",
    "d) Resolva as alíneas anteriores, considerando a resistência do ar. Resolva usando\n",
    "o método de Euler. A velocidade terminal da bola no ar é de 100 km/h.\n",
    "\n",
    "Vamos utilizar o método de Euler com duas integrações, uma para integrar a aceleração e obter a velocidade e outra para integrar a velocidade para obter a posição. A aceleração com resistência do ar aparece num dos slides teóricos como:\n",
    "\n",
    "$$\n",
    "a(t) = g - \\frac{g}{v^2_T} v \\lvert v \\rvert\n",
    "$$\n",
    "\n",
    "No entanto este slide assume que a posição se encontra invertida (a gravidade é positiva), no entanto no nosso exercício estamos a considerar a aceleração como negativa, logo temos de negar $g$.\n",
    "\n",
    "$$\n",
    "a(t) = -g - \\frac{g}{v^2_T} v \\lvert v \\rvert\n",
    "$$\n",
    "\n",
    "(Como a nossa velocidade também têm o sentido invertido o sinal da velocidade e da gravidade cancelam-se, mantendo o sinal da subtração no atrito)"
   ]
  },
  {
   "cell_type": "code",
   "execution_count": 59,
   "id": "82b381f8-b833-4e1a-84b1-7094c0b3fe24",
   "metadata": {
    "tags": []
   },
   "outputs": [
    {
     "data": {
      "image/png": "[encoded data removed]",
      "text/plain": [
       "<Figure size 640x480 with 1 Axes>"
      ]
     },
     "metadata": {},
     "output_type": "display_data"
    }
   ],
   "source": [
    "vT = 100 * (1000/3600)\n",
    "\n",
    "# Parâmetros\n",
    "dt = 0.001\n",
    "t0 = 0\n",
    "tf = 4.0\n",
    "y0 = 0\n",
    "vy0 = 10\n",
    "\n",
    "def accel(v):\n",
    "    return -g - (g/(vT**2) * v * np.abs(v))\n",
    "\n",
    "# Número de passos/iterações\n",
    "#\n",
    "# + 0.1 para garantir que não há arrendodamentos\n",
    "# para baixo\n",
    "n = int((tf-t0) / dt + 0.1)\n",
    "\n",
    "t = np.zeros(n + 1)\n",
    "y = np.zeros(n + 1)\n",
    "vy = np.zeros(n + 1)\n",
    "ay = np.zeros(n + 1)\n",
    "\n",
    "# Insert initial values\n",
    "vy[0] = vy0\n",
    "t[0] = t0\n",
    "y[0] = y0\n",
    "ay[0] = accel(vy0)\n",
    "\n",
    "for i in range(n):\n",
    "    ay[i + 1] = accel(vy[i])\n",
    "    vy[i + 1] = vy[i] + ay[i] * dt\n",
    "    y[i + 1] = y[i] + vy[i] * dt\n",
    "    t[i + 1] = t[i] + dt\n",
    "\n",
    "plt.plot(t, ay, \"y\", label=\"Aceleração\")\n",
    "plt.plot(t, vy, \"g\", label=\"Velocidade\")\n",
    "plt.plot(t, y, \"b\", label=\"Posição\")\n",
    "plt.xlabel(\"Tempo (segundos)\")\n",
    "plt.ylabel(\"Distância (m)\")\n",
    "plt.legend(loc=\"upper left\")\n",
    "plt.title(\"Movimento com resistência\")\n",
    "plt.show()"
   ]
  },
  {
   "cell_type": "markdown",
   "id": "8df8f011-b5b2-49cd-9901-3d23203b5627",
   "metadata": {},
   "source": [
    "d.b) Qual a altura máxima e o instante em que ocorre, no caso da alínea d)?\n",
    "\n",
    "Basta utilizarmos o método `argmax` do `numpy` que permite obter o indíce do maior item do array, se aplicarmos este ao array das posições $y$ obtemos o indíce que se utilizarmos outra vez a $y$ obtemos a altura máxima, se aplicarmos no array do tempo $t$ obtemos o instante em que está altura é atingida."
   ]
  },
  {
   "cell_type": "code",
   "execution_count": 51,
   "id": "6a5e9831-9487-4ea7-9a09-aa43875fcfbb",
   "metadata": {
    "tags": []
   },
   "outputs": [],
   "source": [
    "idx = y.argmax()\n",
    "yMax = y[idx]\n",
    "tMax = t[idx]"
   ]
  },
  {
   "cell_type": "code",
   "execution_count": 52,
   "id": "a53e1a5f-edac-429a-9c61-2cfe2d683acb",
   "metadata": {
    "tags": [
     "remove_cell"
    ]
   },
   "outputs": [
    {
     "data": {
      "text/latex": [
       "$\\displaystyle y_{ \\text{max} } = 4.80127524$"
      ],
      "text/plain": [
       "<IPython.core.display.Math object>"
      ]
     },
     "metadata": {},
     "output_type": "display_data"
    },
    {
     "data": {
      "text/latex": [
       "$\\displaystyle t_{ \\text{max} } = 0.98000000$"
      ],
      "text/plain": [
       "<IPython.core.display.Math object>"
      ]
     },
     "metadata": {},
     "output_type": "display_data"
    }
   ],
   "source": [
    "display(Math(r'y_{{ \\text{{max}} }} = {:.8f}'.format(yMax)))\n",
    "display(Math(r't_{{ \\text{{max}} }} = {:.8f}'.format(tMax)))"
   ]
  },
  {
   "cell_type": "code",
   "execution_count": 53,
   "id": "dd7d567a-2f5a-4a1b-a78c-d58746ad9425",
   "metadata": {
    "tags": [
     "remove_cell"
    ]
   },
   "outputs": [
    {
     "data": {
      "image/png": "[encoded data removed]",
      "text/plain": [
       "<Figure size 640x480 with 1 Axes>"
      ]
     },
     "metadata": {},
     "output_type": "display_data"
    }
   ],
   "source": [
    "plt.plot(t, y, \"b\", label=\"Posição\")\n",
    "plt.plot(\n",
    "    tMax,\n",
    "    yMax,\n",
    "    marker=\"o\",\n",
    "    markersize=10,\n",
    "    markerfacecolor=\"black\",\n",
    ")\n",
    "plt.xlabel(\"Tempo (segundos)\")\n",
    "plt.ylabel(\"Distância (m)\")\n",
    "plt.legend(loc=\"upper left\")\n",
    "plt.title(\"Movimento com resistência\")\n",
    "plt.show()"
   ]
  },
  {
   "cell_type": "markdown",
   "id": "51c2833a-2637-4854-95fb-5c1ee2d202f0",
   "metadata": {},
   "source": [
    "d.c) Em que instante volta a passar pela posição inicial, no caso da alínea d)?\n",
    "\n",
    "Para encontrarmos a posição inicial podemos utilizar o método `np.where` que devolve todos os índices dos elementos que cumprem a condição passada, e como condição utilizamos o método `np.isclose` que diz se um valor `a` (1° argumento) está perto de um valor de referência `b` (2° argumento). Necessitamos deste metódo em vez de comparar diretamente pois os erros de aproximação do método do euler e dos floats podem causar o valor de não ser exatamente igual a zero."
   ]
  },
  {
   "cell_type": "code",
   "execution_count": 62,
   "id": "fc8166d3-aec7-4299-b085-56350166b510",
   "metadata": {
    "tags": []
   },
   "outputs": [],
   "source": [
    "idxs = np.where(np.isclose(y, 0, atol=0.005))[0]\n",
    "# Queremos o segundo elemento pois o primeiro corresponde ao momento\n",
    "# de lançamento inicial.\n",
    "idx = idxs[1]\n",
    "yRet = y[idx]\n",
    "tRet = t[idx]"
   ]
  },
  {
   "cell_type": "code",
   "execution_count": 65,
   "id": "8682365c-f82c-470d-9ef0-03d484d524f9",
   "metadata": {
    "tags": [
     "remove_cell"
    ]
   },
   "outputs": [
    {
     "data": {
      "text/latex": [
       "$\\displaystyle y_{ \\text{ret} } = -0.00292847$"
      ],
      "text/plain": [
       "<IPython.core.display.Math object>"
      ]
     },
     "metadata": {},
     "output_type": "display_data"
    },
    {
     "data": {
      "text/latex": [
       "$\\displaystyle t_{ \\text{ret} } = 1.98000000$"
      ],
      "text/plain": [
       "<IPython.core.display.Math object>"
      ]
     },
     "metadata": {},
     "output_type": "display_data"
    }
   ],
   "source": [
    "display(Math(r'y_{{ \\text{{ret}} }} = {:.8f}'.format(yRet)))\n",
    "display(Math(r't_{{ \\text{{ret}} }} = {:.8f}'.format(tRet)))"
   ]
  },
  {
   "cell_type": "code",
   "execution_count": 67,
   "id": "7a6c9f01-06a4-4278-8c12-52cbc8d6ad44",
   "metadata": {
    "tags": [
     "remove_cell"
    ]
   },
   "outputs": [
    {
     "data": {
      "image/png": "[encoded data removed]",
      "text/plain": [
       "<Figure size 640x480 with 1 Axes>"
      ]
     },
     "metadata": {},
     "output_type": "display_data"
    }
   ],
   "source": [
    "plt.plot(t, y, \"b\", label=\"Posição\")\n",
    "plt.plot(\n",
    "    tRet,\n",
    "    yRet,\n",
    "    marker=\"o\",\n",
    "    markersize=10,\n",
    "    markerfacecolor=\"black\",\n",
    ")\n",
    "plt.xlabel(\"Tempo (segundos)\")\n",
    "plt.ylabel(\"Distância (m)\")\n",
    "plt.legend(loc=\"upper left\")\n",
    "plt.title(\"Movimento com resistência\")\n",
    "plt.show()"
   ]
  }
 ],
 "metadata": {
  "authors": [
   {
    "name": "João Capucho"
   }
  ],
  "kernelspec": {
   "display_name": "Python 3 (ipykernel)",
   "language": "python",
   "name": "python3"
  },
  "language_info": {
   "codemirror_mode": {
    "name": "ipython",
    "version": 3
   },
   "file_extension": ".py",
   "mimetype": "text/x-python",
   "name": "python",
   "nbconvert_exporter": "python",
   "pygments_lexer": "ipython3",
   "version": "3.10.9"
  },
  "title": "Guião Prático 4"
 },
 "nbformat": 4,
 "nbformat_minor": 5
}
