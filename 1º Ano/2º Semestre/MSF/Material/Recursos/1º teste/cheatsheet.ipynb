{
 "cells": [
  {
   "cell_type": "code",
   "execution_count": 1,
   "metadata": {},
   "outputs": [],
   "source": [
    "import matplotlib.pyplot as plt\n",
    "import numpy as np\n",
    "import sympy"
   ]
  },
  {
   "cell_type": "markdown",
   "metadata": {},
   "source": [
    "Funções"
   ]
  },
  {
   "cell_type": "code",
   "execution_count": null,
   "metadata": {},
   "outputs": [],
   "source": [
    "def metEuler(vy_inicial, t_inicial, t_final, y_inicial, delta_t):\n",
    "    n = int((t_final-t_inicial) / delta_t + 0.1)\n",
    "\n",
    "    t = np.zeros(n + 1)\n",
    "    y = np.zeros(n + 1)\n",
    "    vy = np.zeros(n + 1)\n",
    "    ay = np.zeros(n + 1)\n",
    "\n",
    "    vy[0] = vy_inicial\n",
    "    t[0] = t_inicial\n",
    "    y[0] = y_inicial\n",
    "\n",
    "    for i in range(n):  \n",
    "        ay[i] = 9.8 - ((9.8/6.8*2) + vy[i] * np.abs(vy[i]))\n",
    "\n",
    "        vy[i + 1] = vy[i] + ay[i] * delta_t\n",
    "        y[i + 1] = y[i] + vy[i] * delta_t\n",
    "        t[i + 1] = t[i] + delta_t\n",
    "\n",
    "    return t, y, vy, ay\n",
    "\n",
    "t,y,vy,ay = metEuler()\n",
    "\n",
    "plt.plot(t, ay, \"y\",label=\"Exato\")\n",
    "plt.xlabel(\"Tempo (segundos)\")\n",
    "plt.ylabel(\"Aceleração ($m/s^2$)\")\n",
    "plt.legend(loc=\"upper left\")\n",
    "plt.title(\"Aceleração volante badmington\")\n",
    "plt.show()"
   ]
  },
  {
   "cell_type": "markdown",
   "metadata": {},
   "source": [
    "Fórmulas"
   ]
  },
  {
   "cell_type": "code",
   "execution_count": null,
   "metadata": {},
   "outputs": [],
   "source": [
    "# y = (v_T ** 2 / g) * np.log(np.cosh(g * t / v_T))"
   ]
  }
 ],
 "metadata": {
  "kernelspec": {
   "display_name": "Python 3",
   "language": "python",
   "name": "python3"
  },
  "language_info": {
   "codemirror_mode": {
    "name": "ipython",
    "version": 3
   },
   "file_extension": ".py",
   "mimetype": "text/x-python",
   "name": "python",
   "nbconvert_exporter": "python",
   "pygments_lexer": "ipython3",
   "version": "3.10.12"
  }
 },
 "nbformat": 4,
 "nbformat_minor": 2
}
